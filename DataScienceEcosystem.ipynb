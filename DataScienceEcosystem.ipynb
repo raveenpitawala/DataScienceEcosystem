{
  "metadata": {
    "kernelspec": {
      "name": "python",
      "display_name": "Python (Pyodide)",
      "language": "python"
    },
    "language_info": {
      "codemirror_mode": {
        "name": "python",
        "version": 3
      },
      "file_extension": ".py",
      "mimetype": "text/x-python",
      "name": "python",
      "nbconvert_exporter": "python",
      "pygments_lexer": "ipython3",
      "version": "3.8"
    }
  },
  "nbformat_minor": 4,
  "nbformat": 4,
  "cells": [
    {
      "cell_type": "markdown",
      "source": "# Data Science Tools and Ecosystem",
      "metadata": {}
    },
    {
      "cell_type": "markdown",
      "source": "In this notebook, Data Science Tools and Ecosystem are summarized.",
      "metadata": {}
    },
    {
      "cell_type": "markdown",
      "source": "#### data science languages.\n1. Python\n2. R\n3. SQL\n4. Julia\n5. Scala\n6. Java",
      "metadata": {}
    },
    {
      "cell_type": "markdown",
      "source": "#### data science libraries\n1. NumPy\r2. \npanda\n3. Seaborn\n4. scikit-learn\n5. Matplotliblib",
      "metadata": {}
    },
    {
      "cell_type": "markdown",
      "source": "#### Data Science tools. \n\n| Data Science Tools  |\n|---------------------|\n| Python              |\n| R                   |\n| SQL                 |\n| Jupyter Notebook    |\n| Apache Spark        |\n| Tableau             |\n| KNIME               |\n| SAS                 |\n| MATLAB              |\n| RapidMiner          |\n| Microsoft Excel     |",
      "metadata": {}
    },
    {
      "cell_type": "markdown",
      "source": "### Below are a few examples of evaluating arithmetic expressions in Python",
      "metadata": {}
    },
    {
      "cell_type": "code",
      "source": "(3*4)+5  #This a simple arithmetic expression to mutiply then add integers",
      "metadata": {
        "trusted": true
      },
      "outputs": [
        {
          "execution_count": 6,
          "output_type": "execute_result",
          "data": {
            "text/plain": "17"
          },
          "metadata": {}
        }
      ],
      "execution_count": 6
    },
    {
      "cell_type": "code",
      "source": "print(200,\"minutes =\", 200/60, \"hours\")  #This will convert 200 minutes to hours by diving by 60",
      "metadata": {
        "trusted": true
      },
      "outputs": [
        {
          "name": "stdout",
          "text": "200 minutes = 3.3333333333333335 hours\n",
          "output_type": "stream"
        }
      ],
      "execution_count": 10
    },
    {
      "cell_type": "markdown",
      "source": "**Objectives**\n- List popular languages for Data Science\n- List popular libraries for Data science\n- Data Science tools\n- Below are a few examples of evaluating arithmetic expressions in Python",
      "metadata": {}
    },
    {
      "cell_type": "markdown",
      "source": "## Author \nRaveen Dilsanka Pitawala",
      "metadata": {}
    }
  ]
}