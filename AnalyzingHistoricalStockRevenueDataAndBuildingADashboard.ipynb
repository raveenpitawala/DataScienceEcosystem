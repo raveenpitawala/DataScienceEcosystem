{
  "metadata": {
    "kernelspec": {
      "name": "python",
      "display_name": "Python (Pyodide)",
      "language": "python"
    },
    "language_info": {
      "codemirror_mode": {
        "name": "python",
        "version": 3
      },
      "file_extension": ".py",
      "mimetype": "text/x-python",
      "name": "python",
      "nbconvert_exporter": "python",
      "pygments_lexer": "ipython3",
      "version": "3.8"
    }
  },
  "nbformat_minor": 4,
  "nbformat": 4,
  "cells": [
    {
      "cell_type": "markdown",
      "source": "### install",
      "metadata": {}
    },
    {
      "cell_type": "markdown",
      "source": "### Question 1 - Extracting Tesla Stock Data Using yfinance",
      "metadata": {}
    },
    {
      "cell_type": "code",
      "source": "import yfinance as yf\n\nticker_symbol = \"TSLA\"\ntesla = yf.Ticker(ticker_symbol)\ntesla_data = tesla.history()\nprint(tesla_data.head().iloc[0])",
      "metadata": {
        "trusted": true
      },
      "outputs": [],
      "execution_count": null
    },
    {
      "cell_type": "markdown",
      "source": "### Question 2 - Tesla Revenue Data Using Webscraping",
      "metadata": {}
    },
    {
      "cell_type": "code",
      "source": "import requests\nfrom bs4 import BeautifulSoup\nimport pandas as pd\n\n# Define the URL\nurl = \"https://cf-courses-data.s3.us.cloud-object-storage.appdomain.cloud/IBMDeveloperSkillsNetwork-PY0220EN-SkillsNetwork/labs/project/revenue.htm\"\ntesla = requests.get(url).content\nsoup = BeautifulSoup(tesla, 'html.parser')\ntable = soup.find('table')\ntesla_revenue = pd.read_html(str(table))[0]\nprint(tesla_revenue.tail())",
      "metadata": {
        "trusted": true
      },
      "outputs": [],
      "execution_count": null
    },
    {
      "cell_type": "markdown",
      "source": "### Question 3 - GameStop Stock Data Using yfinance",
      "metadata": {}
    },
    {
      "cell_type": "code",
      "source": "import yfinance as yf\n\nticker_symbol = 'GME'\ntesla = yf.Ticker(ticker_symbol)\ntesla_data = tesla.history()\nprint(tesla_data.head().iloc[0])",
      "metadata": {
        "trusted": true
      },
      "outputs": [],
      "execution_count": null
    },
    {
      "cell_type": "markdown",
      "source": "### Question 4 - GameStop Revenue Data Using Webscraping",
      "metadata": {}
    },
    {
      "cell_type": "code",
      "source": "import requests\nfrom bs4 import BeautifulSoup\nimport pandas as pd\n\n# Define the URL\nurl = \"https://www.macrotrends.net/stocks/charts/GME/gamestop/revenue.html\"\ntesla = requests.get(url).content\nsoup = BeautifulSoup(tesla, 'html.parser')\ntable = soup.find('table')\ntesla_revenue = pd.read_html(str(table))[0]\nprint(tesla_revenue.tail())",
      "metadata": {
        "trusted": true
      },
      "outputs": [],
      "execution_count": null
    }
  ]
}